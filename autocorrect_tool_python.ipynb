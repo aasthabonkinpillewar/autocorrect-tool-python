{
  "nbformat": 4,
  "nbformat_minor": 0,
  "metadata": {
    "colab": {
      "provenance": [],
      "toc_visible": true
    },
    "kernelspec": {
      "name": "python3",
      "display_name": "Python 3"
    },
    "language_info": {
      "name": "python"
    }
  },
  "cells": [
    {
      "cell_type": "code",
      "execution_count": 1,
      "metadata": {
        "id": "TqwLPrsjUOT_",
        "colab": {
          "base_uri": "https://localhost:8080/"
        },
        "outputId": "e80a3576-1184-42cb-a201-41fc2937e6c6"
      },
      "outputs": [
        {
          "output_type": "stream",
          "name": "stdout",
          "text": [
            "Collecting pyspellchecker\n",
            "  Downloading pyspellchecker-0.8.3-py3-none-any.whl.metadata (9.5 kB)\n",
            "Downloading pyspellchecker-0.8.3-py3-none-any.whl (7.2 MB)\n",
            "\u001b[2K   \u001b[90m━━━━━━━━━━━━━━━━━━━━━━━━━━━━━━━━━━━━━━━━\u001b[0m \u001b[32m7.2/7.2 MB\u001b[0m \u001b[31m38.8 MB/s\u001b[0m eta \u001b[36m0:00:00\u001b[0m\n",
            "\u001b[?25hInstalling collected packages: pyspellchecker\n",
            "Successfully installed pyspellchecker-0.8.3\n"
          ]
        }
      ],
      "source": [
        "!pip install pyspellchecker"
      ]
    },
    {
      "cell_type": "code",
      "source": [
        "from spellchecker import SpellChecker\n",
        "\n",
        "def autocorrect_sentence(sentence):\n",
        "    spell = SpellChecker()\n",
        "    words = sentence.split()\n",
        "    corrected_sentence = []\n",
        "\n",
        "    for word in words:\n",
        "        corrected_word = spell.correction(word)\n",
        "        corrected_sentence.append(corrected_word)\n",
        "\n",
        "    return \" \".join(corrected_sentence)\n",
        "\n",
        "# Test the function\n",
        "sentence = \"Ths is a smple sentnce.\"\n",
        "corrected = autocorrect_sentence(sentence)\n",
        "print(\"Corrected Sentence:\", corrected)"
      ],
      "metadata": {
        "colab": {
          "base_uri": "https://localhost:8080/"
        },
        "id": "QcdBt9D4VRhC",
        "outputId": "3631a957-9d9a-41c7-caa9-176bf361b670"
      },
      "execution_count": 2,
      "outputs": [
        {
          "output_type": "stream",
          "name": "stdout",
          "text": [
            "Corrected Sentence: the is a simple sentence\n"
          ]
        }
      ]
    }
  ]
}