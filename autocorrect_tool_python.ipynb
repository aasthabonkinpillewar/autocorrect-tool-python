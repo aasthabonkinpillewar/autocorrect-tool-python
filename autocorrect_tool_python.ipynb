{
  "nbformat": 4,
  "nbformat_minor": 0,
  "metadata": {
    "colab": {
      "provenance": [],
      "toc_visible": true,
      "include_colab_link": true
    },
    "kernelspec": {
      "name": "python3",
      "display_name": "Python 3"
    },
    "language_info": {
      "name": "python"
    }
  },
  "cells": [
    {
      "cell_type": "markdown",
      "metadata": {
        "id": "view-in-github",
        "colab_type": "text"
      },
      "source": [
        "<a href=\"https://colab.research.google.com/github/aasthabonkinpillewar/autocorrect-tool-python/blob/main/autocorrect_tool_python.ipynb\" target=\"_parent\"><img src=\"https://colab.research.google.com/assets/colab-badge.svg\" alt=\"Open In Colab\"/></a>"
      ]
    },
    {
      "cell_type": "code",
      "execution_count": 12,
      "metadata": {
        "id": "TqwLPrsjUOT_",
        "colab": {
          "base_uri": "https://localhost:8080/"
        },
        "outputId": "ab6118ff-b7b9-4dd9-f7db-19361dd9cc86"
      },
      "outputs": [
        {
          "output_type": "stream",
          "name": "stdout",
          "text": [
            "Requirement already satisfied: pyspellchecker in /usr/local/lib/python3.11/dist-packages (0.8.3)\n"
          ]
        }
      ],
      "source": [
        "!pip install pyspellchecker"
      ]
    },
    {
      "cell_type": "code",
      "source": [
        "from spellchecker import SpellChecker\n",
        "\n",
        "def autocorrect_sentence(sentence):\n",
        "    spell = SpellChecker()\n",
        "    words = sentence.split()\n",
        "    corrected_sentence = []\n",
        "\n",
        "    for word in words:\n",
        "        corrected_word = spell.correction(word)\n",
        "        if corrected_word is None:\n",
        "            corrected_word = word  # Use the original word if no correction\n",
        "        corrected_sentence.append(corrected_word)\n",
        "\n",
        "    return \" \".join(corrected_sentence)\n",
        "\n",
        "# Test the function\n",
        "sentence = \"I was travling.\"\n",
        "corrected = autocorrect_sentence(sentence)\n",
        "print(\"Corrected Sentence:\", corrected)\n"
      ],
      "metadata": {
        "colab": {
          "base_uri": "https://localhost:8080/"
        },
        "id": "QcdBt9D4VRhC",
        "outputId": "926b4fb0-86ca-4f38-9546-88bd57366368"
      },
      "execution_count": 15,
      "outputs": [
        {
          "output_type": "stream",
          "name": "stdout",
          "text": [
            "Corrected Sentence: I was traveling\n"
          ]
        }
      ]
    }
  ]
}